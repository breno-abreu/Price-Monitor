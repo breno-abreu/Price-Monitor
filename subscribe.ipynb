{
 "cells": [
  {
   "cell_type": "code",
   "execution_count": 10,
   "id": "85c0d5a8-5fce-4510-ac1d-a28c383ade1c",
   "metadata": {},
   "outputs": [],
   "source": [
    "import psycopg2\n",
    "from dotenv import load_dotenv\n",
    "from typing import List, Tuple, Union\n",
    "import os"
   ]
  },
  {
   "cell_type": "code",
   "execution_count": 17,
   "id": "78274bae-a325-4c7f-8e22-861b40fac3a1",
   "metadata": {},
   "outputs": [],
   "source": [
    "def subscribe(site_name: str, link: str, element_type: str, element_name: str) -> Tuple[bool, str]:\n",
    "\n",
    "    try:\n",
    "\n",
    "        element_name = f\".{element_name.replace(' ', '.')}\"\n",
    "        \n",
    "        # Load the environmental variables. Secrets that are stored in my machine.\n",
    "        load_dotenv()\n",
    "        sqluser = os.getenv(\"SQLUSER\")\n",
    "        sqlpass = os.getenv(\"SQLPASS\")\n",
    "        \n",
    "        # Get server data\n",
    "        host = '127.0.0.1'\n",
    "        database = 'my_projects'\n",
    "        \n",
    "        # Create the path to the database\n",
    "        conn_string = f'postgresql://{sqluser}:{sqlpass}@{host}/{database}'\n",
    "    \n",
    "        with psycopg2.connect(conn_string) as conn:\n",
    "    \n",
    "            # Creates the cursor to run queries\n",
    "            conn.autocommit = True\n",
    "            with conn.cursor() as cursor:\n",
    "        \n",
    "                # Runs a query to select everyhing from table person, the newly created table. This is just to check if the data was uploaded correctly\n",
    "                query = f\"INSERT INTO price_monitor_subscriptions (link, element_name, element_type, site_name) VALUES ('{link}', '{element_name}', '{element_type}', '{site_name}');\"\n",
    "                cursor.execute(query) \n",
    "\n",
    "        return True, 'OK'\n",
    "\n",
    "    except Exception as err:\n",
    "        return False, err\n",
    "    \n",
    "    \n",
    "    "
   ]
  },
  {
   "cell_type": "code",
   "execution_count": 18,
   "id": "0203b369-e487-4f0a-91d7-8a83af072984",
   "metadata": {},
   "outputs": [
    {
     "name": "stdout",
     "output_type": "stream",
     "text": [
      "ERRO:  duplicar valor da chave viola a restrição de unicidade \"price_monitor_subscriptions_pkey\"\n",
      "DETAIL:  Chave (link)=(https://www.amazon.com.br/CANON-EOS-REBEL-EF-S-18-55MM/dp/B07QBD256Y/ref=sr_1_3?__mk_pt_BR=%C3%85M%C3%85%C5%BD%C3%95%C3%91&crid=2DPRWM4166D7B&dib=eyJ2IjoiMSJ9._96Kg9kYMRTCgn_pEVvSba89EDU0BEoqGfCuTaElN663LBRy3vDXbFnaVtyCUqy1KYjtZePrjXF7PU4qMedK8djo3GbRHg2ZuDOiT7jCrap6YyP97t90bZr8Ba-bfg_L10i0u3978JttP6ejbBmtaIThRCrQFIMOTwDbJKsjvlnXH9FjACodb5l29FWWx6uHsrbMP8Rd6WHY6ki4i0KzeYan6DWRLc4z5F3kAIqQ19nrpHe6PMIotJZrI4GmmOqGxn-JwPKAt5PKa8OKwy3cVOZv6WYDGAqzzoxTOwSpnUI.ruhKu0FKZJRMcEvWVw9Ge6whslG-lW3dtY81aADkKPc&dib_tag=se&keywords=canon+sl3&qid=1722543244&sprefix=canon+sl%2Caps%2C390&sr=8-3&ufe=app_do%3Aamzn1.fos.25548f35-0de7-44b3-b28e-0f56f3f96147) já existe.\n",
      "\n"
     ]
    }
   ],
   "source": [
    "response = subscribe(\n",
    "    \"Amazon\",\n",
    "    \"https://www.amazon.com.br/CANON-EOS-REBEL-EF-S-18-55MM/dp/B07QBD256Y/ref=sr_1_3?__mk_pt_BR=%C3%85M%C3%85%C5%BD%C3%95%C3%91&crid=2DPRWM4166D7B&dib=eyJ2IjoiMSJ9._96Kg9kYMRTCgn_pEVvSba89EDU0BEoqGfCuTaElN663LBRy3vDXbFnaVtyCUqy1KYjtZePrjXF7PU4qMedK8djo3GbRHg2ZuDOiT7jCrap6YyP97t90bZr8Ba-bfg_L10i0u3978JttP6ejbBmtaIThRCrQFIMOTwDbJKsjvlnXH9FjACodb5l29FWWx6uHsrbMP8Rd6WHY6ki4i0KzeYan6DWRLc4z5F3kAIqQ19nrpHe6PMIotJZrI4GmmOqGxn-JwPKAt5PKa8OKwy3cVOZv6WYDGAqzzoxTOwSpnUI.ruhKu0FKZJRMcEvWVw9Ge6whslG-lW3dtY81aADkKPc&dib_tag=se&keywords=canon+sl3&qid=1722543244&sprefix=canon+sl%2Caps%2C390&sr=8-3&ufe=app_do%3Aamzn1.fos.25548f35-0de7-44b3-b28e-0f56f3f96147\",\n",
    "    \"class\",\n",
    "    \"a-price-whole\",\n",
    ")\n",
    "\n",
    "print(response[1])"
   ]
  },
  {
   "cell_type": "code",
   "execution_count": null,
   "id": "df128529-4c82-4f22-9f5d-e0abf7d3028b",
   "metadata": {},
   "outputs": [],
   "source": []
  }
 ],
 "metadata": {
  "kernelspec": {
   "display_name": "Python 3 (ipykernel)",
   "language": "python",
   "name": "python3"
  },
  "language_info": {
   "codemirror_mode": {
    "name": "ipython",
    "version": 3
   },
   "file_extension": ".py",
   "mimetype": "text/x-python",
   "name": "python",
   "nbconvert_exporter": "python",
   "pygments_lexer": "ipython3",
   "version": "3.11.5"
  }
 },
 "nbformat": 4,
 "nbformat_minor": 5
}
